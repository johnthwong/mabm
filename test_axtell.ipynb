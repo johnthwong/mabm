{
 "cells": [
  {
   "cell_type": "code",
   "execution_count": 1,
   "id": "17bc177a",
   "metadata": {},
   "outputs": [],
   "source": [
    "from model import *"
   ]
  },
  {
   "cell_type": "code",
   "execution_count": 2,
   "id": "6ac67655",
   "metadata": {},
   "outputs": [
    {
     "name": "stdout",
     "output_type": "stream",
     "text": [
      "Agent 1 started a new firm.\n",
      "Agent 5 stayed with old firm.\n",
      "Agent 7 was poached.\n",
      "Agent 2 was poached.\n",
      "Agent 8 stayed with old firm.\n",
      "Agent 6 started a new firm.\n",
      "Agent 10 started a new firm.\n",
      "Agent 9 started a new firm.\n",
      "Agent 4 stayed with old firm.\n",
      "Agent 3 stayed with old firm.\n"
     ]
    }
   ],
   "source": [
    "economy = Economy(seed=1000, H=10)"
   ]
  },
  {
   "cell_type": "code",
   "execution_count": 3,
   "id": "0576feb4",
   "metadata": {},
   "outputs": [
    {
     "name": "stdout",
     "output_type": "stream",
     "text": [
      "10000.0\n",
      "10000.0\n",
      "10000.0\n",
      "10000.0\n",
      "10000.0\n",
      "10000.0\n",
      "10000.0\n",
      "10000.0\n",
      "10000.0\n",
      "10000.0\n",
      "0\n",
      "0\n",
      "0\n",
      "0\n",
      "0\n",
      "0\n",
      "0\n",
      "0\n",
      "0\n"
     ]
    }
   ],
   "source": [
    "for agent in economy.agents:\n",
    "    print(agent.money)"
   ]
  },
  {
   "cell_type": "code",
   "execution_count": 4,
   "id": "c1062409",
   "metadata": {},
   "outputs": [
    {
     "name": "stdout",
     "output_type": "stream",
     "text": [
      "0\n",
      "1\n",
      "2\n",
      "3\n",
      "4\n",
      "5\n",
      "6\n",
      "7\n",
      "8\n"
     ]
    },
    {
     "data": {
      "text/plain": [
       "8"
      ]
     },
     "execution_count": 4,
     "metadata": {},
     "output_type": "execute_result"
    }
   ],
   "source": [
    "# Test how agentSet is indexed.\n",
    "for i in economy.agents_by_type[Firm]:\n",
    "    print(economy.agents_by_type[Firm].index(i))\n",
    "\n",
    "last_firm = economy.agents_by_type[Firm][-1]\n",
    "economy.agents_by_type[Firm].index(last_firm)"
   ]
  },
  {
   "cell_type": "code",
   "execution_count": 5,
   "id": "ee40754a",
   "metadata": {},
   "outputs": [
    {
     "name": "stdout",
     "output_type": "stream",
     "text": [
      "15\n",
      "13\n",
      "10\n",
      "11\n",
      "12\n",
      "16\n",
      "13\n",
      "14\n",
      "18\n",
      "17\n"
     ]
    }
   ],
   "source": [
    "# Test whether each firm is attached to the right household\n",
    "for i in economy.agents_by_type[Household]:\n",
    "    print(economy.agents.index(i.employer))"
   ]
  },
  {
   "cell_type": "code",
   "execution_count": 6,
   "id": "fbb2cd6b",
   "metadata": {},
   "outputs": [
    {
     "name": "stdout",
     "output_type": "stream",
     "text": [
      "0.1818092079633759\n",
      "0.6854508788951964\n",
      "0.45027497596586025\n",
      "0.6991852274767482\n",
      "0.6764279691748876\n",
      "0.1080936079171429\n",
      "0.31589400979696136\n",
      "0.45875899409311904\n",
      "0.973072193648809\n",
      "0.05480075696473223\n"
     ]
    }
   ],
   "source": [
    "# Check effort levels for singletons\n",
    "for i in economy.agents_by_type[Household]:\n",
    "    print(i.effort)"
   ]
  },
  {
   "cell_type": "code",
   "execution_count": null,
   "id": "6cfb3862",
   "metadata": {},
   "outputs": [],
   "source": []
  }
 ],
 "metadata": {
  "kernelspec": {
   "display_name": "latest_py",
   "language": "python",
   "name": "python3"
  },
  "language_info": {
   "codemirror_mode": {
    "name": "ipython",
    "version": 3
   },
   "file_extension": ".py",
   "mimetype": "text/x-python",
   "name": "python",
   "nbconvert_exporter": "python",
   "pygments_lexer": "ipython3",
   "version": "3.12.9"
  }
 },
 "nbformat": 4,
 "nbformat_minor": 5
}
